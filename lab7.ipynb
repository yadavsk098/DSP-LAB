{
 "cells": [
  {
   "cell_type": "code",
   "execution_count": 184,
   "metadata": {},
   "outputs": [
    {
     "data": {
      "text/plain": [
       "[<matplotlib.lines.Line2D at 0x1d468056f40>]"
      ]
     },
     "execution_count": 184,
     "metadata": {},
     "output_type": "execute_result"
    },
    {
     "data": {
      "image/png": "[encoded data removed]",
      "text/plain": [
       "<Figure size 432x288 with 1 Axes>"
      ]
     },
     "metadata": {
      "needs_background": "light"
     },
     "output_type": "display_data"
    }
   ],
   "source": [
    "import numpy as np\n",
    "import matplotlib.pyplot as plt\n",
    "from scipy.linalg import toeplitz\n",
    "from scipy.linalg import hankel\n",
    " \n",
    "N = 31 # `N = 31` : The length of the filter. \n",
    "M = (N - 1) // 2\n",
    " \n",
    "wp = 0.26 * np.pi # The passband and stopband edge frequencies, respectively, in radians per sample.\n",
    "ws = 0.34 * np.pi # The stopband edge frequencies, respectively, in radians per sample.\n",
    "K = 10 # The weight factor used in the Parks-McClellan algorithm.\n",
    " \n",
    "fp = wp / np.pi # The passband and stopband edge frequencies normalized to the Nyquist frequency.\n",
    "fs = ws / np.pi\n",
    " \n",
    "nn=np.arange(1,(2*M))\n",
    " \n",
    "q = np.hstack(((fp+K*(1-fs)), (fp*np.sinc(fp*nn)-K*fs*np.sinc(fs*nn)))); # `q` : The desired frequency response of the filter in the passband and stopband.\n",
    "# The first element is the frequency band edge weight, and the remaining elements are the desired frequency response.\n",
    "\n",
    "Q1 = toeplitz(q[0:M])\n",
    "Q2 = hankel(q[0:M], q[M:(2 * M) ])\n",
    "Q =(Q1+Q2)/2 # `Q` : The toeplitz and hankel matrix used to solve for the filter coefficients.\n",
    " \n",
    "b = fp * np.sinc(fp * np.arange(M )) # `b` : The desired response of the filter in the passband. It is generated using the sinc function.\n",
    " \n",
    "a = np.linalg.solve(Q, b) # `a` : The filter coefficients are computed by solving the system of linear equations `Qa=b` using the `linalg.solve` function.\n",
    "A1 = a[M-1:0:-1][1:] # `A1`, `A2`, and `A3` : The filter coefficients are then sliced into three parts and concatenated.\n",
    "A2 = np.array([2 * a[0]])  # Convert to 1D array\n",
    "A3 = a[1:M]\n",
    " \n",
    "# Now, concatenate the slices\n",
    "h = np.concatenate((A1, A2, A3)) / 2 # `h` : The final lowpass FIR filter coefficients.\n",
    "# plt.stem(h)\n",
    "h_fft=np.fft.fft(h)\n",
    "plt.plot(abs(h_fft))"
   ]
  }
 ],
 "metadata": {
  "kernelspec": {
   "display_name": "base",
   "language": "python",
   "name": "python3"
  },
  "language_info": {
   "codemirror_mode": {
    "name": "ipython",
    "version": 3
   },
   "file_extension": ".py",
   "mimetype": "text/x-python",
   "name": "python",
   "nbconvert_exporter": "python",
   "pygments_lexer": "ipython3",
   "version": "3.9.7"
  }
 },
 "nbformat": 4,
 "nbformat_minor": 2
}
